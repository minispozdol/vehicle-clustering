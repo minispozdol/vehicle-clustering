{
 "cells": [
  {
   "cell_type": "code",
   "execution_count": 9,
   "id": "561d9379",
   "metadata": {},
   "outputs": [],
   "source": [
    "import os\n",
    "import numpy as np\n",
    "from pathlib import Path\n",
    "import pandas as pd\n",
    "from sklearn.model_selection import train_test_split\n",
    "#loading dataset\n",
    "PATH_ROOT = Path(os.getcwd())\n",
    "PATH_DATA = os.path.join(PATH_ROOT.parent,'vehicles.csv')\n",
    "PATH_TEST = os.path.join(PATH_ROOT.parent,'vehicle_classifications.csv')"
   ]
  },
  {
   "cell_type": "code",
   "execution_count": 10,
   "id": "5fbacf07",
   "metadata": {},
   "outputs": [],
   "source": [
    "Data = pd.read_csv(PATH_DATA, engine = 'python')\n",
    "TestDataLab = pd.read_csv(PATH_TEST, engine = 'python')"
   ]
  },
  {
   "cell_type": "code",
   "execution_count": 11,
   "id": "c1e02db2",
   "metadata": {},
   "outputs": [],
   "source": [
    "#creating a new attribute to store verified data\n",
    "Data[\"VerifiedVariant\"] = float(\"NaN\")\n",
    "#matching stock numbers to verified data to record data for verification\n",
    "for i in range(len(TestDataLab)):\n",
    "    Data.loc[Data['stock_number'] == TestDataLab.loc[TestDataLab.index[i],'stock_number'], \n",
    "             'VerifiedVariant'] = TestDataLab.loc[TestDataLab.index[i],'description']"
   ]
  },
  {
   "cell_type": "code",
   "execution_count": 12,
   "id": "854dbfdf",
   "metadata": {},
   "outputs": [],
   "source": [
    "#Train/testing data\n",
    "ActualData=Data.loc[Data['stock_number'].reindex(Data.index, fill_value=False).isin(TestDataLab['stock_number'].tolist())]\n",
    "#Raw Data\n",
    "RawData=Data.loc[~Data['stock_number'].reindex(Data.index, fill_value=False).isin(TestDataLab['stock_number'].tolist())]"
   ]
  },
  {
   "cell_type": "code",
   "execution_count": 13,
   "id": "d047d860",
   "metadata": {},
   "outputs": [],
   "source": [
    "ActualData= ActualData[ActualData['VerifiedVariant'].notna()]"
   ]
  },
  {
   "cell_type": "code",
   "execution_count": 14,
   "id": "fdb508d5",
   "metadata": {},
   "outputs": [
    {
     "name": "stderr",
     "output_type": "stream",
     "text": [
      "C:\\Users\\Tony\\AppData\\Local\\Temp\\ipykernel_9840\\3546124791.py:8: SettingWithCopyWarning: \n",
      "A value is trying to be set on a copy of a slice from a DataFrame\n",
      "\n",
      "See the caveats in the documentation: https://pandas.pydata.org/pandas-docs/stable/user_guide/indexing.html#returning-a-view-versus-a-copy\n",
      "  PP_Data['eeca_drive'].fillna(value = '2WD', inplace = True)\n"
     ]
    }
   ],
   "source": [
    "#filtering the attributes to be used as input for the algorithms\n",
    "ProcessCategories = ['eeca_make', 'eeca_model', 'eeca_transmission', 'eeca_fuel',\n",
    "                     'eeca_engine_power', 'eeca_weight', 'eeca_doors', 'eeca_engine_cc',\n",
    "'eeca_vehicle_type', 'eeca_pollutants_stars', 'eeca_co2stars', 'eeca_co2per_km',\n",
    "'eeca_yearly_co2', 'eeca_fuel_stars', 'eeca_yearly_cost', 'eeca_fuel_consumption',\n",
    "'eeca_driver_safety_stars', 'VerifiedVariant', 'eeca_drive']\n",
    "\n",
    "PP_Data=ActualData[ProcessCategories]\n",
    "#replacing null values with 2WD as it is the only option\n",
    "PP_Data['eeca_drive'].fillna(value = '2WD', inplace = True)"
   ]
  },
  {
   "cell_type": "code",
   "execution_count": 15,
   "id": "5ceed406",
   "metadata": {},
   "outputs": [
    {
     "name": "stderr",
     "output_type": "stream",
     "text": [
      "C:\\Users\\Tony\\AppData\\Local\\Temp\\ipykernel_9840\\581351071.py:2: SettingWithCopyWarning: \n",
      "A value is trying to be set on a copy of a slice from a DataFrame\n",
      "\n",
      "See the caveats in the documentation: https://pandas.pydata.org/pandas-docs/stable/user_guide/indexing.html#returning-a-view-versus-a-copy\n",
      "  TrainProcessData.drop(TrainProcessData.index[TrainProcessData['VerifiedVariant'] == '2004–08 Corolla Waggon Petrol'], inplace = True)\n"
     ]
    }
   ],
   "source": [
    "#selecting manufracture and model to use\n",
    "TrainProcessData=PP_Data.loc[(PP_Data['eeca_make']=='TOYOTA') & (PP_Data['eeca_model'] =='COROLLA')]\n",
    "#removing variants that are too small in numbers\n",
    "TrainProcessData.drop(TrainProcessData.index[TrainProcessData['VerifiedVariant'] == '2004–08 Corolla Waggon Petrol'],\n",
    "                      inplace = True)\n",
    "#splitting the dataset into TrainSet and TestSet with same proportion of variants.\n",
    "TrainSet, TestSet = train_test_split(TrainProcessData, test_size = 0.2, train_size = 0.8, shuffle = True,\n",
    "                                     stratify = TrainProcessData['VerifiedVariant'])\n",
    "#exporting to csv to be used in algorithms\n",
    "TrainSet.to_csv('ToyCorollaTrainSET.csv')\n",
    "TestSet.to_csv('ToyCorollaTestSET.csv')\n"
   ]
  }
 ],
 "metadata": {
  "kernelspec": {
   "display_name": "Python 3 (ipykernel)",
   "language": "python",
   "name": "python3"
  },
  "language_info": {
   "codemirror_mode": {
    "name": "ipython",
    "version": 3
   },
   "file_extension": ".py",
   "mimetype": "text/x-python",
   "name": "python",
   "nbconvert_exporter": "python",
   "pygments_lexer": "ipython3",
   "version": "3.9.12"
  }
 },
 "nbformat": 4,
 "nbformat_minor": 5
}
